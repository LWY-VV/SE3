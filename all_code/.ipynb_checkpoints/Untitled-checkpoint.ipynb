{
 "cells": [
  {
   "cell_type": "code",
   "execution_count": 1,
   "id": "24eab2b0",
   "metadata": {},
   "outputs": [],
   "source": [
    "import numpy as np"
   ]
  },
  {
   "cell_type": "code",
   "execution_count": 2,
   "id": "86d745a1",
   "metadata": {},
   "outputs": [
    {
     "data": {
      "text/plain": [
       "0.7466671278924009"
      ]
     },
     "execution_count": 2,
     "metadata": {},
     "output_type": "execute_result"
    }
   ],
   "source": [
    "np.random.rand()"
   ]
  },
  {
   "cell_type": "code",
   "execution_count": 3,
   "id": "ee51e5b8",
   "metadata": {},
   "outputs": [],
   "source": [
    "import torch"
   ]
  },
  {
   "cell_type": "code",
   "execution_count": 4,
   "id": "cd1a2112",
   "metadata": {},
   "outputs": [
    {
     "data": {
      "text/plain": [
       "tensor([0.2521, 0.1064, 0.4064, 0.5344, 0.6413, 0.3317, 0.0636, 0.7618, 0.8719,\n",
       "        0.9411, 0.9413, 0.4789, 0.1459, 0.0599, 0.4066, 0.6237, 0.6958, 0.9937,\n",
       "        0.7438, 0.7407, 0.7762, 0.5080, 0.7056, 0.8327, 0.7707, 0.3083, 0.6820,\n",
       "        0.1157, 0.3557, 0.0416, 0.7834, 0.5741, 0.8542, 0.5431, 0.3737, 0.2672,\n",
       "        0.5529, 0.7264, 0.3756, 0.7855, 0.6845, 0.9200, 0.0149, 0.4091, 0.3748,\n",
       "        0.6623, 0.1522, 0.1096, 0.9223, 0.4776, 0.2063, 0.8981, 0.9378, 0.3677,\n",
       "        0.8866, 0.1257, 0.0136, 0.2377, 0.6837, 0.9531, 0.7221, 0.4919, 0.4644,\n",
       "        0.5632, 0.3311, 0.3294, 0.3225, 0.2259, 0.1523, 0.2726, 0.6293, 0.4823,\n",
       "        0.3217, 0.5290, 0.5366, 0.5150, 0.1830, 0.0541, 0.4511, 0.0405, 0.7232,\n",
       "        0.0564, 0.8339, 0.9172, 0.1260, 0.5645, 0.0493, 0.9116, 0.1545, 0.7690,\n",
       "        0.4726, 0.5053, 0.9737, 0.0156, 0.6475, 0.9363, 0.3423, 0.6441, 0.2378,\n",
       "        0.3982], device='cuda:0')"
      ]
     },
     "execution_count": 4,
     "metadata": {},
     "output_type": "execute_result"
    }
   ],
   "source": [
    "torch.rand(100).cuda()"
   ]
  },
  {
   "cell_type": "code",
   "execution_count": 11,
   "id": "5e8a6dd0",
   "metadata": {},
   "outputs": [],
   "source": [
    "import vgtk"
   ]
  },
  {
   "cell_type": "code",
   "execution_count": 12,
   "id": "08c6ee8f",
   "metadata": {},
   "outputs": [
    {
     "ename": "ModuleNotFoundError",
     "evalue": "No module named 'vgtk.spconv'",
     "output_type": "error",
     "traceback": [
      "\u001b[0;31m---------------------------------------------------------------------------\u001b[0m",
      "\u001b[0;31mModuleNotFoundError\u001b[0m                       Traceback (most recent call last)",
      "\u001b[0;32m/tmp/ipykernel_1824/2766556514.py\u001b[0m in \u001b[0;36m<module>\u001b[0;34m\u001b[0m\n\u001b[1;32m      5\u001b[0m \u001b[0;32mimport\u001b[0m \u001b[0mtorch\u001b[0m\u001b[0;34m.\u001b[0m\u001b[0mnn\u001b[0m \u001b[0;32mas\u001b[0m \u001b[0mnn\u001b[0m\u001b[0;34m\u001b[0m\u001b[0;34m\u001b[0m\u001b[0m\n\u001b[1;32m      6\u001b[0m \u001b[0;31m# import vgtk\u001b[0m\u001b[0;34m\u001b[0m\u001b[0;34m\u001b[0m\u001b[0;34m\u001b[0m\u001b[0m\n\u001b[0;32m----> 7\u001b[0;31m \u001b[0;32mimport\u001b[0m \u001b[0mSPConvNets\u001b[0m\u001b[0;34m.\u001b[0m\u001b[0mutils\u001b[0m \u001b[0;32mas\u001b[0m \u001b[0mM\u001b[0m\u001b[0;34m\u001b[0m\u001b[0;34m\u001b[0m\u001b[0m\n\u001b[0m\u001b[1;32m      8\u001b[0m \u001b[0;31m# import vgtk.spconv.functional as L\u001b[0m\u001b[0;34m\u001b[0m\u001b[0;34m\u001b[0m\u001b[0;34m\u001b[0m\u001b[0m\n\u001b[1;32m      9\u001b[0m \u001b[0;34m\u001b[0m\u001b[0m\n",
      "\u001b[0;32m~/Desktop/SE3_robot1/SPConvNets/utils/__init__.py\u001b[0m in \u001b[0;36m<module>\u001b[0;34m\u001b[0m\n\u001b[1;32m      1\u001b[0m \u001b[0;31m# from .base_zpconv import *\u001b[0m\u001b[0;34m\u001b[0m\u001b[0;34m\u001b[0m\u001b[0;34m\u001b[0m\u001b[0m\n\u001b[0;32m----> 2\u001b[0;31m \u001b[0;32mfrom\u001b[0m \u001b[0;34m.\u001b[0m\u001b[0mbase_so3conv\u001b[0m \u001b[0;32mimport\u001b[0m \u001b[0;34m*\u001b[0m\u001b[0;34m\u001b[0m\u001b[0;34m\u001b[0m\u001b[0m\n\u001b[0m\u001b[1;32m      3\u001b[0m \u001b[0;32mfrom\u001b[0m \u001b[0;34m.\u001b[0m\u001b[0mpointnetvlad_loss\u001b[0m \u001b[0;32mimport\u001b[0m \u001b[0;34m*\u001b[0m\u001b[0;34m\u001b[0m\u001b[0;34m\u001b[0m\u001b[0m\n\u001b[1;32m      4\u001b[0m \u001b[0;32mfrom\u001b[0m \u001b[0;34m.\u001b[0m\u001b[0mNetVLADLoupe\u001b[0m \u001b[0;32mimport\u001b[0m \u001b[0;34m*\u001b[0m\u001b[0;34m\u001b[0m\u001b[0;34m\u001b[0m\u001b[0m\n\u001b[1;32m      5\u001b[0m \u001b[0;32mfrom\u001b[0m \u001b[0;34m.\u001b[0m\u001b[0mgem\u001b[0m \u001b[0;32mimport\u001b[0m \u001b[0;34m*\u001b[0m\u001b[0;34m\u001b[0m\u001b[0;34m\u001b[0m\u001b[0m\n",
      "\u001b[0;32m~/Desktop/SE3_robot1/SPConvNets/utils/base_so3conv.py\u001b[0m in \u001b[0;36m<module>\u001b[0;34m\u001b[0m\n\u001b[1;32m     10\u001b[0m \u001b[0;32mfrom\u001b[0m \u001b[0mtorch\u001b[0m\u001b[0;34m.\u001b[0m\u001b[0mnn\u001b[0m\u001b[0;34m.\u001b[0m\u001b[0mmodules\u001b[0m\u001b[0;34m.\u001b[0m\u001b[0mbatchnorm\u001b[0m \u001b[0;32mimport\u001b[0m \u001b[0m_BatchNorm\u001b[0m\u001b[0;34m\u001b[0m\u001b[0;34m\u001b[0m\u001b[0m\n\u001b[1;32m     11\u001b[0m \u001b[0;34m\u001b[0m\u001b[0m\n\u001b[0;32m---> 12\u001b[0;31m \u001b[0;32mimport\u001b[0m \u001b[0mvgtk\u001b[0m\u001b[0;34m.\u001b[0m\u001b[0mspconv\u001b[0m \u001b[0;32mas\u001b[0m \u001b[0mzptk\u001b[0m\u001b[0;34m\u001b[0m\u001b[0;34m\u001b[0m\u001b[0m\n\u001b[0m\u001b[1;32m     13\u001b[0m \u001b[0;32mimport\u001b[0m \u001b[0mvgtk\u001b[0m\u001b[0;34m.\u001b[0m\u001b[0mso3conv\u001b[0m \u001b[0;32mas\u001b[0m \u001b[0msptk\u001b[0m\u001b[0;34m\u001b[0m\u001b[0;34m\u001b[0m\u001b[0m\n\u001b[1;32m     14\u001b[0m \u001b[0;34m\u001b[0m\u001b[0m\n",
      "\u001b[0;31mModuleNotFoundError\u001b[0m: No module named 'vgtk.spconv'"
     ]
    }
   ],
   "source": [
    "\"\"\"\n",
    "network architechture for place recognition (Oxford dataset)\n",
    "\"\"\"\n",
    "import torch\n",
    "import torch.nn as nn\n",
    "# import vgtk\n",
    "import SPConvNets.utils as M\n",
    "# import vgtk.spconv.functional as L\n",
    "\n",
    "import SPConvNets.models.pr_so3net_pn as frontend\n",
    "import numpy as np\n",
    "import config as cfg\n",
    "from SPConvNets.options import opt as Eopt\n",
    "import pdb\n",
    "# from pointnet.pointnet_changeDim import PointNetDenseCls, STNkd\n",
    "from self_attension import SelfAttention\n",
    "from self_attension import Chordal_L2\n",
    "from util import test_pc_generate\n",
    "\n",
    "path = './panda_data/se3_data/1.npz'\n",
    "x = np.load(path)\n",
    "pdb.set_trace()\n"
   ]
  },
  {
   "cell_type": "code",
   "execution_count": null,
   "id": "79dc48c6",
   "metadata": {},
   "outputs": [],
   "source": []
  },
  {
   "cell_type": "code",
   "execution_count": null,
   "id": "2b1419a4",
   "metadata": {},
   "outputs": [],
   "source": []
  }
 ],
 "metadata": {
  "kernelspec": {
   "display_name": "Python 3 (ipykernel)",
   "language": "python",
   "name": "python3"
  },
  "language_info": {
   "codemirror_mode": {
    "name": "ipython",
    "version": 3
   },
   "file_extension": ".py",
   "mimetype": "text/x-python",
   "name": "python",
   "nbconvert_exporter": "python",
   "pygments_lexer": "ipython3",
   "version": "3.8.12"
  }
 },
 "nbformat": 4,
 "nbformat_minor": 5
}
