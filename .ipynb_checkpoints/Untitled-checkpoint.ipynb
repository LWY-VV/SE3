{
 "cells": [
  {
   "cell_type": "code",
   "execution_count": 1,
   "id": "9c4bc259",
   "metadata": {},
   "outputs": [],
   "source": [
    "import numpy as np"
   ]
  },
  {
   "cell_type": "code",
   "execution_count": 2,
   "id": "e50253f9",
   "metadata": {},
   "outputs": [
    {
     "data": {
      "text/plain": [
       "0.3869828795760949"
      ]
     },
     "execution_count": 2,
     "metadata": {},
     "output_type": "execute_result"
    }
   ],
   "source": [
    "np.random.rand()"
   ]
  },
  {
   "cell_type": "code",
   "execution_count": 3,
   "id": "5b65737e",
   "metadata": {},
   "outputs": [],
   "source": [
    "import torch"
   ]
  },
  {
   "cell_type": "code",
   "execution_count": 5,
   "id": "6309e00e",
   "metadata": {},
   "outputs": [
    {
     "data": {
      "text/plain": [
       "tensor([0.8748, 0.3873, 0.3721, 0.1706, 0.7458, 0.1060, 0.7959, 0.9714, 0.1883,\n",
       "        0.3445, 0.1421, 0.8002, 0.9792, 0.9777, 0.2925, 0.8538, 0.2988, 0.4596,\n",
       "        0.4952, 0.3719, 0.7863, 0.8217, 0.0750, 0.0844, 0.7503, 0.4024, 0.8181,\n",
       "        0.7177, 0.9119, 0.6898, 0.1392, 0.0916, 0.1174, 0.8436, 0.2803, 0.8704,\n",
       "        0.8703, 0.8451, 0.0308, 0.5542, 0.3249, 0.3813, 0.2532, 0.8917, 0.3055,\n",
       "        0.6915, 0.0646, 0.1844, 0.3997, 0.6832, 0.8727, 0.5101, 0.7387, 0.4320,\n",
       "        0.8229, 0.9587, 0.4353, 0.1914, 0.9900, 0.0311, 0.0577, 0.9117, 0.3429,\n",
       "        0.6101, 0.2747, 0.4317, 0.4499, 0.4524, 0.2056, 0.5884, 0.3537, 0.5646,\n",
       "        0.7371, 0.4396, 0.0805, 0.1215, 0.5366, 0.4821, 0.3658, 0.2859, 0.3707,\n",
       "        0.9003, 0.6043, 0.8220, 0.6129, 0.2441, 0.8690, 0.7824, 0.6695, 0.2869,\n",
       "        0.0749, 0.9812, 0.2918, 0.9204, 0.0990, 0.1669, 0.1457, 0.7913, 0.3016,\n",
       "        0.4674], device='cuda:0')"
      ]
     },
     "execution_count": 5,
     "metadata": {},
     "output_type": "execute_result"
    }
   ],
   "source": [
    "torch.rand(100).cuda()"
   ]
  },
  {
   "cell_type": "code",
   "execution_count": 6,
   "id": "18a269da",
   "metadata": {},
   "outputs": [
    {
     "ename": "ModuleNotFoundError",
     "evalue": "No module named 'vgtk'",
     "output_type": "error",
     "traceback": [
      "\u001b[0;31m---------------------------------------------------------------------------\u001b[0m",
      "\u001b[0;31mModuleNotFoundError\u001b[0m                       Traceback (most recent call last)",
      "\u001b[0;32m/tmp/ipykernel_1296/846197624.py\u001b[0m in \u001b[0;36m<module>\u001b[0;34m\u001b[0m\n\u001b[0;32m----> 1\u001b[0;31m \u001b[0;32mimport\u001b[0m \u001b[0mvgtk\u001b[0m\u001b[0;34m\u001b[0m\u001b[0;34m\u001b[0m\u001b[0m\n\u001b[0m",
      "\u001b[0;31mModuleNotFoundError\u001b[0m: No module named 'vgtk'"
     ]
    }
   ],
   "source": [
    "import vgtk"
   ]
  },
  {
   "cell_type": "code",
   "execution_count": null,
   "id": "0eda16f6",
   "metadata": {},
   "outputs": [],
   "source": []
  }
 ],
 "metadata": {
  "kernelspec": {
   "display_name": "Python 3 (ipykernel)",
   "language": "python",
   "name": "python3"
  },
  "language_info": {
   "codemirror_mode": {
    "name": "ipython",
    "version": 3
   },
   "file_extension": ".py",
   "mimetype": "text/x-python",
   "name": "python",
   "nbconvert_exporter": "python",
   "pygments_lexer": "ipython3",
   "version": "3.8.12"
  }
 },
 "nbformat": 4,
 "nbformat_minor": 5
}
